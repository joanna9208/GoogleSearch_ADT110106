{
 "cells": [
  {
   "cell_type": "code",
   "execution_count": 3,
   "id": "145ed0bf",
   "metadata": {},
   "outputs": [
    {
     "name": "stdout",
     "output_type": "stream",
     "text": [
      "標題：寒流- 維基百科，自由的百科全書zh.wikipedia.org › zh-tw › 寒潮\n",
      "網址：/url?q=https://zh.wikipedia.org/zh-tw/%25E5%25AF%2592%25E6%25BD%25AE&sa=U&ved=2ahUKEwjXmOfmiP-BAxVyafUHHajeDqYQFnoECAkQAg&usg=AOvVaw2od-TWgaUqeGAG8reD6jyX\n",
      "\n",
      "標題：低溫特報| 交通部中央氣象署www.cwa.gov.tw › Warning\n",
      "網址：/url?q=https://www.cwa.gov.tw/V8/C/P/Warning/W28.html&sa=U&ved=2ahUKEwjXmOfmiP-BAxVyafUHHajeDqYQFnoECAoQAg&usg=AOvVaw2hi9RF7u67QySi6GEd3lM4\n",
      "\n",
      "標題：寒流- 翰林雲端學院www.ehanlin.com.tw › app › keyword › 國中 › 地理 › 寒流\n",
      "網址：/url?q=https://www.ehanlin.com.tw/app/keyword/%25E5%259C%258B%25E4%25B8%25AD/%25E5%259C%25B0%25E7%2590%2586/%25E5%25AF%2592%25E6%25B5%2581.html&sa=U&ved=2ahUKEwjXmOfmiP-BAxVyafUHHajeDqYQFnoECAsQAg&usg=AOvVaw38l61r-gCvGrPmA5o8mcNq\n",
      "\n",
      "標題：寒流(影集) - 維基百科，自由的百科全書zh.wikipedia.org › zh-tw › 寒流_(影集)\n",
      "網址：/url?q=https://zh.wikipedia.org/zh-tw/%25E5%25AF%2592%25E6%25B5%2581_(%25E5%25BD%25B1%25E9%259B%2586)&sa=U&ved=2ahUKEwjXmOfmiP-BAxVyafUHHajeDqYQFnoECAYQAg&usg=AOvVaw0OyhC1psj8Fv9FfaqDkW_C\n",
      "\n",
      "標題：強冷空氣來襲直逼寒流吳德榮：13日平地低溫探8度 - 風傳媒www.storm.mg › 國內\n",
      "網址：/url?q=https://www.storm.mg/article/4722088&sa=U&ved=2ahUKEwjXmOfmiP-BAxVyafUHHajeDqYQFnoECAQQAg&usg=AOvVaw24BrB5cTAGZRO_N-SzmgUQ\n",
      "\n",
      "標題：維尼哥哥科學選文16：任立渝∼寒流來了！www.bud.org.tw › Winnie › Winnie16\n",
      "網址：/url?q=https://www.bud.org.tw/Winnie/Winnie16.htm&sa=U&ved=2ahUKEwjXmOfmiP-BAxVyafUHHajeDqYQFnoECAMQAg&usg=AOvVaw1WAZRmcaxfK3dBKygu4fnK\n",
      "\n",
      "標題：寒流接連來襲！呼籲民眾注意低溫對健康造成的危害 - 衛生福利部www.mohw.gov.tw › ...\n",
      "網址：/url?q=https://www.mohw.gov.tw/cp-2640-23770-1.html&sa=U&ved=2ahUKEwjXmOfmiP-BAxVyafUHHajeDqYQFnoECAIQAg&usg=AOvVaw2_NLHSJCPc_AyDklkfT2aq\n",
      "\n",
      "標題：氣候百問| 交通部中央氣象署www.cwa.gov.tw › Encyclopedia › climate › climate3_list\n",
      "網址：/url?q=https://www.cwa.gov.tw/V8/C/K/Encyclopedia/climate/climate3_list.html&sa=U&ved=2ahUKEwjXmOfmiP-BAxVyafUHHajeDqYQFnoECAcQAg&usg=AOvVaw0v41cfvOt6-4uqcSmqK3Ma\n",
      "\n",
      "標題：過年罕見雙寒流全台「冷恭喜」 低溫剩3度- 生活 - 中時新聞網www.chinatimes.com › 生活\n",
      "網址：/url?q=https://www.chinatimes.com/realtimenews/20230124000324-260405&sa=U&ved=2ahUKEwjXmOfmiP-BAxVyafUHHajeDqYQFnoECAEQAg&usg=AOvVaw2VT_739clJEjX6a68A6QEg\n",
      "\n",
      "標題：寒流來襲低溫保健8個要點 - 衛生福利部www.mohw.gov.tw › ...\n",
      "網址：/url?q=https://www.mohw.gov.tw/cp-5275-72895-1.html&sa=U&ved=2ahUKEwjXmOfmiP-BAxVyafUHHajeDqYQFnoECAUQAg&usg=AOvVaw1TGmj10eA6WfsXA1FuXlrW\n",
      "\n"
     ]
    }
   ],
   "source": [
    "# Google搜尋\n",
    "import requests\n",
    "from bs4 import BeautifulSoup\n",
    "\n",
    "# Google 搜尋 URL\n",
    "google_url = 'https://www.google.com.tw/search'\n",
    "\n",
    "# 查詢參數\n",
    "my_params = {'q': '寒流'}\n",
    "\n",
    "# 下載 Google 搜尋結果\n",
    "r = requests.get(google_url, params = my_params)\n",
    "\n",
    "# 確認是否下載成功\n",
    "if r.status_code == requests.codes.ok:\n",
    "  # 以 BeautifulSoup 解析 HTML 原始碼\n",
    "  soup = BeautifulSoup(r.text, 'html.parser')\n",
    "\n",
    "  # 觀察 HTML 原始碼\n",
    "  #print(soup.prettify())\n",
    "\n",
    "  # 以 CSS 的選擇器來抓取 Google 的搜尋結果\n",
    "  items = soup.select('div.kCrYT > a[href^=\"/url\"]')\n",
    " \n",
    "  for i in items:\n",
    "    # 標題\n",
    "    print(\"標題：\" + i.text)\n",
    "    # 網址\n",
    "    print(\"網址：\" + i.get('href'))\n",
    "    print()"
   ]
  },
  {
   "cell_type": "code",
   "execution_count": null,
   "id": "bd6eddc4",
   "metadata": {},
   "outputs": [],
   "source": []
  }
 ],
 "metadata": {
  "kernelspec": {
   "display_name": "Python 3 (ipykernel)",
   "language": "python",
   "name": "python3"
  },
  "language_info": {
   "codemirror_mode": {
    "name": "ipython",
    "version": 3
   },
   "file_extension": ".py",
   "mimetype": "text/x-python",
   "name": "python",
   "nbconvert_exporter": "python",
   "pygments_lexer": "ipython3",
   "version": "3.11.5"
  }
 },
 "nbformat": 4,
 "nbformat_minor": 5
}
